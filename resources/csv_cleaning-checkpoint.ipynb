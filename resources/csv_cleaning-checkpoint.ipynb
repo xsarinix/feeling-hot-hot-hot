{
 "cells": [
  {
   "cell_type": "code",
   "execution_count": 1,
   "metadata": {},
   "outputs": [],
   "source": [
    "# Import dependencies\n",
    "import os\n",
    "import pandas as pd\n",
    "import numpy as np"
   ]
  },
  {
   "cell_type": "code",
   "execution_count": 2,
   "metadata": {},
   "outputs": [],
   "source": [
    "# Pull in CSV file and create dataframe\n",
    "climate_csv = \"resources/GlobalLandTemperaturesByCity.csv\"\n",
    "climate_df = pd.read_csv(climate_csv, encoding=\"ISO-8859-1\")"
   ]
  },
  {
   "cell_type": "code",
   "execution_count": 3,
   "metadata": {},
   "outputs": [
    {
     "data": {
      "text/plain": [
       "dt                               777213\n",
       "AverageTemperature               742029\n",
       "AverageTemperatureUncertainty    742028\n",
       "City                             777212\n",
       "Country                          777212\n",
       "Latitude                         777212\n",
       "Longitude                        777212\n",
       "dtype: int64"
      ]
     },
     "execution_count": 3,
     "metadata": {},
     "output_type": "execute_result"
    }
   ],
   "source": [
    "# Check counts for each column\n",
    "climate_df.count()"
   ]
  },
  {
   "cell_type": "code",
   "execution_count": 4,
   "metadata": {},
   "outputs": [
    {
     "data": {
      "text/plain": [
       "dt                               742028\n",
       "AverageTemperature               742028\n",
       "AverageTemperatureUncertainty    742028\n",
       "City                             742028\n",
       "Country                          742028\n",
       "Latitude                         742028\n",
       "Longitude                        742028\n",
       "dtype: int64"
      ]
     },
     "execution_count": 4,
     "metadata": {},
     "output_type": "execute_result"
    }
   ],
   "source": [
    "# Clean dataframe by removing empty rows\n",
    "cleaned_climate_df=climate_df.dropna(how=\"any\")\n",
    "cleaned_climate_df.count()\n",
    "\n",
    "# Reset index\n"
   ]
  },
  {
   "cell_type": "code",
   "execution_count": 5,
   "metadata": {},
   "outputs": [],
   "source": [
    "cleaned_climate_df=cleaned_climate_df.reset_index(drop=True)"
   ]
  },
  {
   "cell_type": "code",
   "execution_count": 6,
   "metadata": {},
   "outputs": [
    {
     "data": {
      "text/plain": [
       "Index(['dt', 'AverageTemperature', 'AverageTemperatureUncertainty', 'City',\n",
       "       'Country', 'Latitude', 'Longitude'],\n",
       "      dtype='object')"
      ]
     },
     "execution_count": 6,
     "metadata": {},
     "output_type": "execute_result"
    }
   ],
   "source": [
    "# Look at column titles\n",
    "cleaned_climate_df.columns"
   ]
  },
  {
   "cell_type": "code",
   "execution_count": 7,
   "metadata": {},
   "outputs": [
    {
     "data": {
      "text/html": [
       "<div>\n",
       "<style scoped>\n",
       "    .dataframe tbody tr th:only-of-type {\n",
       "        vertical-align: middle;\n",
       "    }\n",
       "\n",
       "    .dataframe tbody tr th {\n",
       "        vertical-align: top;\n",
       "    }\n",
       "\n",
       "    .dataframe thead th {\n",
       "        text-align: right;\n",
       "    }\n",
       "</style>\n",
       "<table border=\"1\" class=\"dataframe\">\n",
       "  <thead>\n",
       "    <tr style=\"text-align: right;\">\n",
       "      <th></th>\n",
       "      <th>Date</th>\n",
       "      <th>Average_Temperature</th>\n",
       "      <th>Average_Temp_Uncertainty</th>\n",
       "      <th>City</th>\n",
       "      <th>Country</th>\n",
       "      <th>Latitude</th>\n",
       "      <th>Longitude</th>\n",
       "    </tr>\n",
       "  </thead>\n",
       "  <tbody>\n",
       "    <tr>\n",
       "      <th>0</th>\n",
       "      <td>1743-11-01</td>\n",
       "      <td>6.068</td>\n",
       "      <td>1.737</td>\n",
       "      <td>Ã",
       "rhus</td>\n",
       "      <td>Denmark</td>\n",
       "      <td>57.05N</td>\n",
       "      <td>10.33E</td>\n",
       "    </tr>\n",
       "    <tr>\n",
       "      <th>1</th>\n",
       "      <td>1744-04-01</td>\n",
       "      <td>5.788</td>\n",
       "      <td>3.624</td>\n",
       "      <td>Ã",
       "rhus</td>\n",
       "      <td>Denmark</td>\n",
       "      <td>57.05N</td>\n",
       "      <td>10.33E</td>\n",
       "    </tr>\n",
       "    <tr>\n",
       "      <th>2</th>\n",
       "      <td>1744-05-01</td>\n",
       "      <td>10.644</td>\n",
       "      <td>1.283</td>\n",
       "      <td>Ã",
       "rhus</td>\n",
       "      <td>Denmark</td>\n",
       "      <td>57.05N</td>\n",
       "      <td>10.33E</td>\n",
       "    </tr>\n",
       "    <tr>\n",
       "      <th>3</th>\n",
       "      <td>1744-06-01</td>\n",
       "      <td>14.051</td>\n",
       "      <td>1.347</td>\n",
       "      <td>Ã",
       "rhus</td>\n",
       "      <td>Denmark</td>\n",
       "      <td>57.05N</td>\n",
       "      <td>10.33E</td>\n",
       "    </tr>\n",
       "    <tr>\n",
       "      <th>4</th>\n",
       "      <td>1744-07-01</td>\n",
       "      <td>16.082</td>\n",
       "      <td>1.396</td>\n",
       "      <td>Ã",
       "rhus</td>\n",
       "      <td>Denmark</td>\n",
       "      <td>57.05N</td>\n",
       "      <td>10.33E</td>\n",
       "    </tr>\n",
       "  </tbody>\n",
       "</table>\n",
       "</div>"
      ],
      "text/plain": [
       "         Date  Average_Temperature  Average_Temp_Uncertainty    City  Country  \\\n",
       "0  1743-11-01                6.068                     1.737  Ã\n",
       "rhus  Denmark   \n",
       "1  1744-04-01                5.788                     3.624  Ã\n",
       "rhus  Denmark   \n",
       "2  1744-05-01               10.644                     1.283  Ã\n",
       "rhus  Denmark   \n",
       "3  1744-06-01               14.051                     1.347  Ã\n",
       "rhus  Denmark   \n",
       "4  1744-07-01               16.082                     1.396  Ã\n",
       "rhus  Denmark   \n",
       "\n",
       "  Latitude Longitude  \n",
       "0   57.05N    10.33E  \n",
       "1   57.05N    10.33E  \n",
       "2   57.05N    10.33E  \n",
       "3   57.05N    10.33E  \n",
       "4   57.05N    10.33E  "
      ]
     },
     "execution_count": 7,
     "metadata": {},
     "output_type": "execute_result"
    }
   ],
   "source": [
    "# Rename column titles\n",
    "cleaned_climate_df = cleaned_climate_df.rename(columns = {\"dt\":\"Date\", \n",
    "                                                          \"AverageTemperature\":\"Average_Temperature\",\n",
    "                                                          \"AverageTemperatureUncertainty\":\"Average_Temp_Uncertainty\"\n",
    "                                                         })\n",
    "cleaned_climate_df.head()"
   ]
  },
  {
   "cell_type": "code",
   "execution_count": null,
   "metadata": {},
   "outputs": [],
   "source": [
    "#Drop all unneeded data from irrelevant dates\n",
    "#Create seperate data frames to space out data \n",
    "#Save those dataframes to csv's \n"
   ]
  },
  {
   "cell_type": "code",
   "execution_count": 8,
   "metadata": {},
   "outputs": [],
   "source": [
    "# Save cleaned data under new CSV file\n",
    "cleaned_climate_df.to_csv(\"cleaned_GlobalLandTemperaturesByCity.csv\", index=False, header=True)"
   ]
  },
  {
   "cell_type": "code",
   "execution_count": 9,
   "metadata": {},
   "outputs": [],
   "source": [
    "# Create dataframe for United States\n",
    "usa_cleaned_climate_df=cleaned_climate_df.loc[cleaned_climate_df[\"Country\"]==\"United States\"]\n",
    "\n",
    "# Reset index\n",
    "usa_cleaned_climate_df=usa_cleaned_climate_df.reset_index(drop=True)"
   ]
  },
  {
   "cell_type": "code",
   "execution_count": 10,
   "metadata": {},
   "outputs": [],
   "source": [
    "# Save cleaned data under new CSV file\n",
    "usa_cleaned_climate_df.to_csv(\"cleaned_USALandTemperaturesByCity.csv\", index=False, header=True)"
   ]
  },
  {
   "cell_type": "code",
   "execution_count": 12,
   "metadata": {},
   "outputs": [
    {
     "data": {
      "text/plain": [
       "Date                         object\n",
       "Average_Temperature         float64\n",
       "Average_Temp_Uncertainty    float64\n",
       "City                         object\n",
       "Country                      object\n",
       "Latitude                     object\n",
       "Longitude                    object\n",
       "dtype: object"
      ]
     },
     "execution_count": 12,
     "metadata": {},
     "output_type": "execute_result"
    }
   ],
   "source": [
    "cleaned_climate_df.dtypes"
   ]
  },
  {
   "cell_type": "code",
   "execution_count": null,
   "metadata": {},
   "outputs": [],
   "source": []
  }
 ],
 "metadata": {
  "kernelspec": {
   "display_name": "Python 3",
   "language": "python",
   "name": "python3"
  },
  "language_info": {
   "codemirror_mode": {
    "name": "ipython",
    "version": 3
   },
   "file_extension": ".py",
   "mimetype": "text/x-python",
   "name": "python",
   "nbconvert_exporter": "python",
   "pygments_lexer": "ipython3",
   "version": "3.6.8"
  }
 },
 "nbformat": 4,
 "nbformat_minor": 2
}
